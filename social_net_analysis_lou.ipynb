{
 "cells": [
  {
   "cell_type": "code",
   "execution_count": 1,
   "metadata": {},
   "outputs": [],
   "source": [
    "import pandas as pd\n",
    "import numpy as np\n",
    "import csv\n",
    "import itertools\n",
    "from itertools import chain"
   ]
  },
  {
   "cell_type": "markdown",
   "metadata": {},
   "source": [
    "### Import csv file"
   ]
  },
  {
   "cell_type": "code",
   "execution_count": 2,
   "metadata": {},
   "outputs": [],
   "source": [
    "df = pd.read_csv(\"social_analysis_data_jan_2020.csv\", encoding = 'latin-1')"
   ]
  },
  {
   "cell_type": "code",
   "execution_count": 3,
   "metadata": {},
   "outputs": [
    {
     "data": {
      "text/html": [
       "<div>\n",
       "<style scoped>\n",
       "    .dataframe tbody tr th:only-of-type {\n",
       "        vertical-align: middle;\n",
       "    }\n",
       "\n",
       "    .dataframe tbody tr th {\n",
       "        vertical-align: top;\n",
       "    }\n",
       "\n",
       "    .dataframe thead th {\n",
       "        text-align: right;\n",
       "    }\n",
       "</style>\n",
       "<table border=\"1\" class=\"dataframe\">\n",
       "  <thead>\n",
       "    <tr style=\"text-align: right;\">\n",
       "      <th></th>\n",
       "      <th>respondent</th>\n",
       "      <th>influencers</th>\n",
       "    </tr>\n",
       "  </thead>\n",
       "  <tbody>\n",
       "    <tr>\n",
       "      <th>0</th>\n",
       "      <td>2</td>\n",
       "      <td>'Rachel Schneider','Virginia Eubanks','Robin B...</td>\n",
       "    </tr>\n",
       "    <tr>\n",
       "      <th>1</th>\n",
       "      <td>3</td>\n",
       "      <td>'Tomer Sharon','Tamara Hale','Sam Ladner','Cyd...</td>\n",
       "    </tr>\n",
       "    <tr>\n",
       "      <th>2</th>\n",
       "      <td>4</td>\n",
       "      <td>'Tomer Sharon','Steve Portigal'</td>\n",
       "    </tr>\n",
       "    <tr>\n",
       "      <th>3</th>\n",
       "      <td>5</td>\n",
       "      <td>'Andy Warr','Susan Portalupi','Saswati Saha Mi...</td>\n",
       "    </tr>\n",
       "    <tr>\n",
       "      <th>4</th>\n",
       "      <td>6</td>\n",
       "      <td>'Saikat Mandal','Andrea Sutton','Jonathan Knopf'</td>\n",
       "    </tr>\n",
       "  </tbody>\n",
       "</table>\n",
       "</div>"
      ],
      "text/plain": [
       "   respondent                                        influencers\n",
       "0           2  'Rachel Schneider','Virginia Eubanks','Robin B...\n",
       "1           3  'Tomer Sharon','Tamara Hale','Sam Ladner','Cyd...\n",
       "2           4                    'Tomer Sharon','Steve Portigal'\n",
       "3           5  'Andy Warr','Susan Portalupi','Saswati Saha Mi...\n",
       "4           6   'Saikat Mandal','Andrea Sutton','Jonathan Knopf'"
      ]
     },
     "execution_count": 3,
     "metadata": {},
     "output_type": "execute_result"
    }
   ],
   "source": [
    "df.head()"
   ]
  },
  {
   "cell_type": "markdown",
   "metadata": {},
   "source": [
    "### Examine number of rows and columns in dataframe"
   ]
  },
  {
   "cell_type": "code",
   "execution_count": 4,
   "metadata": {},
   "outputs": [
    {
     "data": {
      "text/plain": [
       "(175, 2)"
      ]
     },
     "execution_count": 4,
     "metadata": {},
     "output_type": "execute_result"
    }
   ],
   "source": [
    "df.shape"
   ]
  },
  {
   "cell_type": "markdown",
   "metadata": {},
   "source": [
    "### Count number of names per row"
   ]
  },
  {
   "cell_type": "code",
   "execution_count": 5,
   "metadata": {},
   "outputs": [],
   "source": [
    "df['names'] = df.influencers.str.count(',')+1"
   ]
  },
  {
   "cell_type": "code",
   "execution_count": 6,
   "metadata": {
    "scrolled": false
   },
   "outputs": [
    {
     "data": {
      "text/html": [
       "<div>\n",
       "<style scoped>\n",
       "    .dataframe tbody tr th:only-of-type {\n",
       "        vertical-align: middle;\n",
       "    }\n",
       "\n",
       "    .dataframe tbody tr th {\n",
       "        vertical-align: top;\n",
       "    }\n",
       "\n",
       "    .dataframe thead th {\n",
       "        text-align: right;\n",
       "    }\n",
       "</style>\n",
       "<table border=\"1\" class=\"dataframe\">\n",
       "  <thead>\n",
       "    <tr style=\"text-align: right;\">\n",
       "      <th></th>\n",
       "      <th>respondent</th>\n",
       "      <th>influencers</th>\n",
       "      <th>names</th>\n",
       "    </tr>\n",
       "  </thead>\n",
       "  <tbody>\n",
       "    <tr>\n",
       "      <th>0</th>\n",
       "      <td>2</td>\n",
       "      <td>'Rachel Schneider','Virginia Eubanks','Robin B...</td>\n",
       "      <td>3</td>\n",
       "    </tr>\n",
       "    <tr>\n",
       "      <th>1</th>\n",
       "      <td>3</td>\n",
       "      <td>'Tomer Sharon','Tamara Hale','Sam Ladner','Cyd...</td>\n",
       "      <td>9</td>\n",
       "    </tr>\n",
       "    <tr>\n",
       "      <th>2</th>\n",
       "      <td>4</td>\n",
       "      <td>'Tomer Sharon','Steve Portigal'</td>\n",
       "      <td>2</td>\n",
       "    </tr>\n",
       "    <tr>\n",
       "      <th>3</th>\n",
       "      <td>5</td>\n",
       "      <td>'Andy Warr','Susan Portalupi','Saswati Saha Mi...</td>\n",
       "      <td>4</td>\n",
       "    </tr>\n",
       "    <tr>\n",
       "      <th>4</th>\n",
       "      <td>6</td>\n",
       "      <td>'Saikat Mandal','Andrea Sutton','Jonathan Knopf'</td>\n",
       "      <td>3</td>\n",
       "    </tr>\n",
       "  </tbody>\n",
       "</table>\n",
       "</div>"
      ],
      "text/plain": [
       "   respondent                                        influencers  names\n",
       "0           2  'Rachel Schneider','Virginia Eubanks','Robin B...      3\n",
       "1           3  'Tomer Sharon','Tamara Hale','Sam Ladner','Cyd...      9\n",
       "2           4                    'Tomer Sharon','Steve Portigal'      2\n",
       "3           5  'Andy Warr','Susan Portalupi','Saswati Saha Mi...      4\n",
       "4           6   'Saikat Mandal','Andrea Sutton','Jonathan Knopf'      3"
      ]
     },
     "execution_count": 6,
     "metadata": {},
     "output_type": "execute_result"
    }
   ],
   "source": [
    "df.head()"
   ]
  },
  {
   "cell_type": "markdown",
   "metadata": {},
   "source": [
    "### Number of unique names in list"
   ]
  },
  {
   "cell_type": "code",
   "execution_count": 7,
   "metadata": {},
   "outputs": [
    {
     "data": {
      "text/plain": [
       "171"
      ]
     },
     "execution_count": 7,
     "metadata": {},
     "output_type": "execute_result"
    }
   ],
   "source": [
    "df['influencers'].nunique()"
   ]
  },
  {
   "cell_type": "code",
   "execution_count": 8,
   "metadata": {},
   "outputs": [],
   "source": [
    "def name_count(df):\n",
    "    #splits list of names into pandas series of lists\n",
    "    influencers = df.influencers.str.split(',')\n",
    "    #splits series into list of lists\n",
    "    influencers = influencers.tolist()\n",
    "    #flattens list\n",
    "    newlist = list(chain(*influencers))\n",
    "    #list to pandas series\n",
    "    influencers = pd.Series(newlist)\n",
    "    #value count of occurences\n",
    "    return influencers.value_counts()\n"
   ]
  },
  {
   "cell_type": "code",
   "execution_count": 9,
   "metadata": {},
   "outputs": [
    {
     "data": {
      "text/plain": [
       "'Steve Portigal'              30\n",
       "'Erika Hall'                  20\n",
       "'Indi Young'                  18\n",
       "'Tomer Sharon'                15\n",
       "'Jared Spool'                 11\n",
       "'Don Norman'                   9\n",
       "'Jakob Nielsen'                8\n",
       "'Sam Ladner'                   8\n",
       "'Jeff Sauro'                   7\n",
       "'Steve Krug'                   7\n",
       "'Kate Towsey'                  5\n",
       "'Vivianne Castillo'            5\n",
       "'Kat Holmes'                   5\n",
       "'Kim Goodwin'                  5\n",
       "'Jan Chipchase'                5\n",
       "'Elizabeth Churchill'          4\n",
       "'Susan Weinschenk'             4\n",
       "'Leah Buley'                   4\n",
       "'Leisa Reichelt'               4\n",
       "'Ginny Redish'                 4\n",
       "'Mike Monteiro'                4\n",
       "'Tricia Wang'                  4\n",
       "'Jeff Gothelf'                 4\n",
       "'John Cutler'                  3\n",
       "'Alan Cooper'                  3\n",
       "'Dan Ariely'                   3\n",
       "'Laura Klein'                  3\n",
       "'Sara Wachter-Boettcher'       3\n",
       "'Peter Morville'               3\n",
       "'Abby Covert'                  3\n",
       "                              ..\n",
       "'Joe Munko'                    1\n",
       "'Martin Booth'                 1\n",
       "'Paivi Voima'                  1\n",
       "'Simon Sinek'                  1\n",
       "'Angela Blackwell Glover'      1\n",
       "'Kelly Moran'                  1\n",
       "'Joseph Lindley'               1\n",
       "'Gordan Pask'                  1\n",
       "'Peter Winstanley'             1\n",
       "'Will Critchlow'               1\n",
       "'Kenny Werner'                 1\n",
       "'Gia Laudi'                    1\n",
       "'Daniel Szuc'                  1\n",
       "'Arin Bhowmick'                1\n",
       "'Dan Lockton'                  1\n",
       "'Mary Sorber'                  1\n",
       "'Donald Norman'                1\n",
       "'Philip Tetlock'               1\n",
       "'Erving Goffman'               1\n",
       "'OD Ntuk'                      1\n",
       "'Shalom Finch'                 1\n",
       "'Hernan Marchant'              1\n",
       "'Shamus Khan'                  1\n",
       "'Catherine Sheldrick Ross'     1\n",
       "'J Vincent Kim'                1\n",
       "'Mary Elizabeth Sullivan'      1\n",
       "'Cassie Kozyrkov'              1\n",
       "'Dan Szuc'                     1\n",
       "'Renae Kemp'                   1\n",
       "'Michael Silverman'            1\n",
       "Length: 652, dtype: int64"
      ]
     },
     "execution_count": 9,
     "metadata": {},
     "output_type": "execute_result"
    }
   ],
   "source": [
    "name_count(df)"
   ]
  },
  {
   "cell_type": "code",
   "execution_count": null,
   "metadata": {},
   "outputs": [],
   "source": []
  }
 ],
 "metadata": {
  "kernelspec": {
   "display_name": "Python 3",
   "language": "python",
   "name": "python3"
  },
  "language_info": {
   "codemirror_mode": {
    "name": "ipython",
    "version": 3
   },
   "file_extension": ".py",
   "mimetype": "text/x-python",
   "name": "python",
   "nbconvert_exporter": "python",
   "pygments_lexer": "ipython3",
   "version": "3.7.3"
  }
 },
 "nbformat": 4,
 "nbformat_minor": 2
}
